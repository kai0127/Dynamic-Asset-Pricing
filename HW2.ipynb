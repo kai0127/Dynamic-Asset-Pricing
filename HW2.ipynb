{
 "cells": [
  {
   "cell_type": "markdown",
   "id": "b3c5c4a9-e959-409d-9268-d7767dbfcf75",
   "metadata": {},
   "source": [
    "# <center> Dynamic Asset Pricing HW2 </center>"
   ]
  },
  {
   "cell_type": "markdown",
   "id": "c4dd84a6-f5e6-4e13-91a0-1fc1bca90209",
   "metadata": {},
   "source": [
    "&copy; 2023 Kaiwen Zhou"
   ]
  },
  {
   "cell_type": "markdown",
   "id": "fa8cdd79-ba61-46e5-93ae-627870810ad9",
   "metadata": {},
   "source": [
    "# Topic: Option Pricing"
   ]
  },
  {
   "cell_type": "markdown",
   "id": "5645932f-2bbe-4dee-8381-5e20b0177988",
   "metadata": {},
   "source": [
    "In this exercise $S_{t}$ represents the price of a stock. We would like to price a down-and-out call; Given a maturity time $T$, a strike $K$ and a barrier $B$, the option pays $\\left(S_{T}-K\\right)_{+}$only if $S_{u} \\geq B$ for all $u \\in(t, T)$. The interest rate $r$ is constant, $S_{t}$ starts at $x>B$ and follows a Geometric Brownian Motion in the **risk neutral** measure:\n",
    "$$\n",
    "d S_{t}=r S_{t} d t+\\sigma S_{t} d W_{t}\n",
    "$$\n",
    "The following questions will present the two main numerical approaches to price options.\n",
    "\n",
    "In all the numerical experiments, we will take $t=0, T=1$ year, $r=0.02$ (2\\% per year) and $\\sigma=0.20$ (20\\% per year), $x=100 \\$, B=80 \\$$ and $K=110 \\$$."
   ]
  },
  {
   "cell_type": "markdown",
   "id": "384a0324-e46f-4454-9846-00e21c54cab7",
   "metadata": {},
   "source": [
    "### Setting up the stage"
   ]
  },
  {
   "cell_type": "code",
   "execution_count": 1,
   "id": "253d6319-3d93-4217-bd38-5c2699066ff0",
   "metadata": {},
   "outputs": [],
   "source": [
    "import numpy as np\n",
    "import matplotlib.pyplot as plt\n",
    "import scipy.stats as spst"
   ]
  },
  {
   "cell_type": "code",
   "execution_count": 2,
   "id": "eb7058fa-4c74-460d-88c9-733aebe4e4c2",
   "metadata": {},
   "outputs": [],
   "source": [
    "t=0    # year\n",
    "T=1    # year\n",
    "r=0.02 # 2% per year\n",
    "σ=0.20 # 20% per year\n",
    "x=100  # $\n",
    "B=80   # $\n",
    "K=110  # $"
   ]
  },
  {
   "cell_type": "markdown",
   "id": "5812eec7-ed95-4e2e-b591-4289703a4822",
   "metadata": {
    "tags": []
   },
   "source": [
    "## Using Monte Carlo"
   ]
  },
  {
   "cell_type": "markdown",
   "id": "29d17819-b8be-4302-a48b-be56d0a45a31",
   "metadata": {},
   "source": [
    "(a) Explain that the value of the option should be\n",
    "\n",
    "$$\n",
    "v_{t}=e^{-r(T-t)} \\mathbb{E}\\left[\\left(S_{T}-K\\right)_{+} \\mathbb{1}_{S_{u} \\geq B, \\forall u \\in(t, T)} \\mid \\mathcal{F}_{t}\\right]\n",
    "$$\n",
    "\n",
    "where $\\mathbb{E}$ is in the risk neutral measure."
   ]
  },
  {
   "cell_type": "markdown",
   "id": "55b28a2c-7078-4c72-9581-3e511e35ca5c",
   "metadata": {},
   "source": [
    "**Solution:**\n",
    "\n",
    "The payoff of this a down-and-out call option is \n",
    "\n",
    "$$\n",
    "V(S_T) = \\begin{cases}\n",
    "    \\left(S_{T}-K\\right)_{+} & \\text{ if } S_{u} \\geq B, \\forall u \\in(t, T)\\\\\n",
    "    0 & \\text{ if } S_{u} < B, \\forall u \\in(t, T)\n",
    "\\end{cases} = \\left(S_{T}-K\\right)_{+} \\mathbb{1}_{S_{u} \\geq B, \\forall u \\in(t, T)} \n",
    "$$\n",
    "    \n",
    "Therefore, if $\\mathbb{E}$ is in the risk neutral measure, by the risk-neutral pricing formula, we obtain\n",
    "\n",
    "$$\n",
    "v_{t}= \\mathbb{E}\\left[e^{-r(T-t)}V(S_T) \\mid \\mathcal{F}_{t}\\right]=e^{-r(T-t)} \\mathbb{E}\\left[\\left(S_{T}-K\\right)_{+} \\mathbb{1}_{S_{u} \\geq B, \\forall u \\in(t, T)} \\mid \\mathcal{F}_{t}\\right].\n",
    "$$"
   ]
  },
  {
   "cell_type": "markdown",
   "id": "af97eb24-6505-4ca0-89fa-516c326e5528",
   "metadata": {},
   "source": [
    "(b) Using the SDE, write a program that computes one trajectory of $S_{t}$ for $t<T$; it should return a list of values $S_{0}, S_{\\Delta t}, S_{2 \\Delta t} \\ldots, S_{T}$ for $\\Delta T=\\frac{T}{N}$ where $N$ is the number of points (you can choose $N=252$ for example)."
   ]
  },
  {
   "cell_type": "code",
   "execution_count": 3,
   "id": "26ede311-3ea2-42e8-bdad-28d46da2f79a",
   "metadata": {},
   "outputs": [
    {
     "data": {
      "text/plain": [
       "<matplotlib.legend.Legend at 0x7fd77bb2ca60>"
      ]
     },
     "execution_count": 3,
     "metadata": {},
     "output_type": "execute_result"
    },
    {
     "data": {
      "image/png": "[encoded data removed]",
      "text/plain": [
       "<Figure size 432x288 with 1 Axes>"
      ]
     },
     "metadata": {
      "needs_background": "light"
     },
     "output_type": "display_data"
    }
   ],
   "source": [
    "np.random.seed(66)  # if you want to be 'out', use seed=100\n",
    "N=252 # number of discrete data points for time and S_t\n",
    "time = np.linspace(0,1,N) \n",
    "δ_t = time[1]-time[0] # increment (delta) of time, \n",
    "\n",
    "# Generate a trajectory for S_t\n",
    "S_t = [x]\n",
    "for i in range(1, N):\n",
    "    next_S = S_t[-1]+r*S_t[-1]*δ_t+σ*S_t[-1]*np.random.normal(0,np.sqrt(δ_t))\n",
    "    S_t.append(next_S)\n",
    "\n",
    "#PLOT\n",
    "plt.scatter(time, S_t, s=3, label='S_t discrete')\n",
    "plt.plot(time, S_t, alpha=0.6, c = 'pink', label='S_t trajectory')\n",
    "plt.xlabel('time')\n",
    "plt.ylabel('S_t')\n",
    "plt.title('One trajectory of S_t')\n",
    "plt.legend()"
   ]
  },
  {
   "cell_type": "markdown",
   "id": "329e0c7e-4d38-4ec9-9e92-e0f41e5574fe",
   "metadata": {},
   "source": [
    "(c) Write a program that takes the list of values computed in the previous question and returns the payoff of the option $\\phi(S)=\\left(S_{T}-K\\right)_{+}$ if all $S_{k \\Delta t}>B$, and 0 otherwise."
   ]
  },
  {
   "cell_type": "code",
   "execution_count": 4,
   "id": "8a0f1dc8-ea7a-4aa0-888a-56ed66692cfe",
   "metadata": {},
   "outputs": [
    {
     "name": "stdout",
     "output_type": "stream",
     "text": [
      "The payoff of this a down-and-out Barrier Call is: $ 35.33998115070955\n"
     ]
    }
   ],
   "source": [
    "def payoff(S_t, B, K):\n",
    "    if np.sum(np.array(S_t) < B) > 0:\n",
    "        return 0\n",
    "    else:\n",
    "        return np.maximum(0, S_t[-1]-K)\n",
    "\n",
    "print('The payoff of this a down-and-out Barrier Call is: $', payoff(S_t, B, K))"
   ]
  },
  {
   "cell_type": "markdown",
   "id": "ea2d138d-91d0-4753-b333-6b60debab10f",
   "metadata": {},
   "source": [
    "(d) Using your previous code, write a program that generates $N_{p}=10^{5}$ trajectories of $S$, and computes the average\n",
    "$$\n",
    "\\frac{e^{-r(T-t)}}{N_{p}} \\sum_{j=1}^{N_{p}} \\phi\\left(S^{(j)}\\right)\n",
    "$$\n",
    "where $S^{(j)}$ is the $j^{t h}$ trajectory. Deduce the price of the option."
   ]
  },
  {
   "cell_type": "code",
   "execution_count": 5,
   "id": "526b7939-47ac-453a-84e4-de95299aff3e",
   "metadata": {},
   "outputs": [
    {
     "name": "stdout",
     "output_type": "stream",
     "text": [
      "Using the Monte Carlo scheme with 100000 iterations, the price of the option at t=0 is: $ 4.906372599084435\n",
      "CPU times: user 1min 58s, sys: 821 ms, total: 1min 59s\n",
      "Wall time: 2min 1s\n"
     ]
    }
   ],
   "source": [
    "%%time\n",
    "N_p = 100000  # number of iterations\n",
    "\n",
    "option_values = []  # variable to hold the option value corresponding to each trajectory generated\n",
    "\n",
    "# compute all option values\n",
    "for i in range(N_p):\n",
    "    S_t = [x]\n",
    "    for j in range(1, N):\n",
    "        next_S = S_t[-1]+r*S_t[-1]*δ_t+σ*S_t[-1]*np.random.normal(0,np.sqrt(δ_t))\n",
    "        S_t.append(next_S)\n",
    "    option_value_S = np.exp(-r*(T-t)) * payoff(S_t,B,K)\n",
    "    option_values.append(option_value_S)\n",
    "\n",
    "# Take the mean to find the price of the option\n",
    "option_value_average = np.mean(option_values)\n",
    "print(f'Using the Monte Carlo scheme with {N_p} iterations, the price of the option at t={t} is: $', option_value_average)"
   ]
  },
  {
   "cell_type": "markdown",
   "id": "a934cd97-493b-429e-a154-2ee08ec72d10",
   "metadata": {},
   "source": [
    "Moreover, we can compute the cumulative mean of option values generated from the first value to the first two values, the first three values, and so on. The key insight is that the cumulative mean of option values should converge to one value."
   ]
  },
  {
   "cell_type": "code",
   "execution_count": null,
   "id": "5b9f40dd-59d9-47f0-a037-08d9a5e0f417",
   "metadata": {},
   "outputs": [],
   "source": [
    "# compute the cumulative mean from the option values generated\n",
    "cumulative_mean_option_values = [np.mean(option_values[:i]) for i in range(1, N_p+1)]"
   ]
  },
  {
   "cell_type": "code",
   "execution_count": 50,
   "id": "0532adb3-fca0-4db3-a67e-188579c07619",
   "metadata": {},
   "outputs": [
    {
     "data": {
      "text/plain": [
       "Text(0.5, 1.0, 'cumulative mean of option values')"
      ]
     },
     "execution_count": 50,
     "metadata": {},
     "output_type": "execute_result"
    },
    {
     "data": {
      "image/png": "[encoded data removed]",
      "text/plain": [
       "<Figure size 432x288 with 1 Axes>"
      ]
     },
     "metadata": {
      "needs_background": "light"
     },
     "output_type": "display_data"
    }
   ],
   "source": [
    "# PLOT the mean values against the number of trajectories\n",
    "# we should see the mean converges to some value gradually\n",
    "plt.plot(np.arange(N_p),cumulative_mean_option_values)  \n",
    "plt.xlabel('number of trajectories')\n",
    "plt.ylabel('mean of option values')\n",
    "plt.title('cumulative mean of option values')"
   ]
  },
  {
   "cell_type": "markdown",
   "id": "f9a5b06a-f456-4b1f-b699-87bc90f1c36a",
   "metadata": {},
   "source": [
    "## Numerical solution of the PDE (Implicit Scheme)"
   ]
  },
  {
   "cell_type": "markdown",
   "id": "08796c02-c289-4cb1-ba64-c107fbfed220",
   "metadata": {},
   "source": [
    "1. We proved that $v(t,x)=\\mathbb{E}\\left[e^{-r(\\tau-t)} \\phi\\left(S_{\\tau}, \\tau\\right) \\mid S_{t}=x\\right]$ solves the PDE:\n",
    "$$\n",
    "\\begin{cases}\n",
    " -r v(t, x)+v_{t}(t, x)+r x v_{x}(t, x)+\\frac{1}{2} \\sigma^{2} x^{2} v_{x x}(t, x)=0, \\quad &\\text { for } t<T \\text { and } B<x \\\\\n",
    " v(T, x)=(x-K)_{+}, \\quad &\\text { for } B<x \\\\\n",
    " v(t, B)=0, \\quad &\\text { for } t<T\n",
    "\\end{cases}\n",
    "$$"
   ]
  },
  {
   "cell_type": "markdown",
   "id": "4831b5be-b620-4cab-a3aa-265acb847226",
   "metadata": {},
   "source": [
    "We will solve only for $x \\in(B, R)$ for some big constant $R=300$. Let's choose $N_{x}=2200$ to be the number of points of $x$ and $N_{t}=252$ to be the number of time points.\n",
    "\n",
    "Define $\\Delta x=\\frac{R-B}{N_{x}}, \\Delta t=\\frac{T-t}{N_{t}}, x_{k}=B+k \\Delta x$ for $k=0, . ., N_{x}$ and $t_{j}=t+j \\Delta t$ for $j=0, . ., N_{t}$. In the following, we will define $v\\left(t_{j}, x_{k}\\right)=v_{j}^{k}$ for any function $v$.\n",
    "1. the final time and boundary conditions of the PDE can be numerically written as\n",
    "\n",
    "$$\n",
    "\\begin{cases}\n",
    " v_{N_{t}}^{k}=\\left(x_{k}-K\\right)_{+}, \\quad &\\text { for } k=0, . ., N_{x} \\\\\n",
    " v_{j}^{0}=0, \\quad &\\text { for } j=0, . ., N_{t} \\\\\n",
    " v_{j}^{N_{x}}=R-e^{-r\\left(T-t_{j}\\right)} K, \\quad &\\text { for } j=0, . ., N_{t}\n",
    "\\end{cases}\n",
    "$$\n",
    "2. Define $\n",
    "V_j=(\n",
    "    v_{j}^0,\n",
    "    v_{j}^1,\n",
    "    v_{j}^2,\n",
    "    \\cdots,\n",
    "    v_{j}^{N_x-1},\n",
    "    v_{j}^{N_x}\n",
    ")\\in\\mathbb{R}^{(N_x+1)}\n",
    "$\n",
    "The implicit scheme gives\n",
    "$$\n",
    "    v_{j}^{k}=a_k v_{j-1}^{k-1}+b_k v_{j-1}^{k}+c_k v_{j-1}^{k+1}, \\text{ for all } k=1, \\ldots, N_{x}-1 \\text{ and } j=1, . ., N_{t}\n",
    "$$\n",
    "where \n",
    "$$\n",
    "a_k=-\\Delta t\\left(-\\frac{r x_{k}}{2 \\Delta x}+\\frac{1}{2(\\Delta x)^{2}} \\sigma^{2} x_{k}^{2}\\right), \\quad b_k=\\left(1+r \\Delta t+ \\frac{\\Delta t\\sigma^{2}x_{k}^{2}}{(\\Delta x)^{2}} \\right), \\quad c_k=-\\Delta t\\left(\\frac{r x_{k}}{2 \\Delta x}+\\frac{1}{2(\\Delta x)^{2}} \\sigma^{2} x_{k}^{2}\\right)\n",
    "$$"
   ]
  },
  {
   "cell_type": "markdown",
   "id": "be46333c-f871-475e-bf26-23f9652c2e8d",
   "metadata": {},
   "source": [
    "3. We define $M$ to be\n",
    "$$\n",
    "M = \\begin{bmatrix}\n",
    "1 & 0 & 0 & 0 & \\cdots & 0 & 0 & 0\\\\\n",
    "a_1 & b_1 & c_1 & 0 & \\cdots & 0 & 0 & 0\\\\\n",
    "0 & a_2 & b_2 & c_2 & \\cdots & 0 & 0 & 0\\\\\n",
    "\\vdots & \\vdots & \\vdots & \\vdots & \\cdots & \\vdots & \\vdots & \\vdots\\\\\n",
    "0 & 0 & 0 & 0 & \\cdots & a_{N_x-1} & b_{N_x-1} & c_{N_x-1} & \\\\\n",
    "0 & 0 & 0 & 0 & \\cdots & 0 & 0 & 1\\\\\n",
    "\\end{bmatrix}\\in \\mathbb{R}^{(N_x+1)\\times(N_x+1)}, \\quad C_{j-1} = \\begin{bmatrix}\n",
    "    0\\\\\n",
    "    0\\\\\n",
    "    0\\\\\n",
    "    \\vdots\\\\\n",
    "    0\\\\\n",
    "    e^{-r(T-t_j))}K- e^{-r(T-t_{j-1}))}K\n",
    "\\end{bmatrix} \\in \\mathbb{R}^{(N_x+1)}\n",
    "$$\n",
    "\n",
    "Then, we must have \n",
    "$$\n",
    "V_j=MV_{j-1}-C_{j-1} \\quad \\Longrightarrow \\quad V_{j-1}=M^{-1}(V_j+C_{j-1})\n",
    "$$"
   ]
  },
  {
   "cell_type": "code",
   "execution_count": 7,
   "id": "1ef43951-c37f-4fc8-8105-dd8f45da0746",
   "metadata": {},
   "outputs": [],
   "source": [
    "R=300\n",
    "N_x=2200\n",
    "N_t=252\n",
    "Δx=(R-B)/N_x\n",
    "Δt=(T-t)/N_t"
   ]
  },
  {
   "cell_type": "code",
   "execution_count": 8,
   "id": "661b0d80-7eb4-4df1-8adc-1bd7551b8bb9",
   "metadata": {},
   "outputs": [],
   "source": [
    "def X(k):\n",
    "    return B+k*Δx\n",
    "\n",
    "def a(k):\n",
    "    return -Δt*(-r*X(k)/(2*Δx) + (σ**2 * X(k)**2)/(2 * Δx**2))\n",
    "\n",
    "def b(k):\n",
    "    return 1 + r*Δt + Δt * σ**2 * X(k)**2/(Δx**2)\n",
    "\n",
    "def c(k):\n",
    "    return -Δt*(r*X(k)/(2*Δx) + (σ**2 * X(k)**2)/(2 * Δx**2))"
   ]
  },
  {
   "cell_type": "markdown",
   "id": "22f68561-e95f-4e53-8af0-75aa8e199fc8",
   "metadata": {},
   "source": [
    "**Initialize the vertical boundary $v_{N_t}^k=(x_k-K)_+, \\text { for } k=0, . ., N_{x}$**"
   ]
  },
  {
   "cell_type": "code",
   "execution_count": 9,
   "id": "2b2e4ce9-b593-4065-8c49-8b9fb83eb7db",
   "metadata": {},
   "outputs": [
    {
     "data": {
      "text/plain": [
       "array([  0. ,   0. ,   0. , ..., 189.8, 189.9, 190. ])"
      ]
     },
     "execution_count": 9,
     "metadata": {},
     "output_type": "execute_result"
    }
   ],
   "source": [
    "v_N_t=np.array([np.maximum(0, X(k)-K) for k in range(N_x+1)])\n",
    "v_N_t"
   ]
  },
  {
   "cell_type": "markdown",
   "id": "f2c41740-220a-4474-bdea-e0b9eda05bf5",
   "metadata": {},
   "source": [
    "**Construct matrix $M$**"
   ]
  },
  {
   "cell_type": "code",
   "execution_count": 10,
   "id": "64401a37-9310-42bc-9ced-35c0efd2e085",
   "metadata": {},
   "outputs": [
    {
     "data": {
      "text/plain": [
       "array([[ 1.00000000e+00,  0.00000000e+00,  0.00000000e+00, ...,\n",
       "         0.00000000e+00,  0.00000000e+00,  0.00000000e+00],\n",
       "       [-5.08889286e+01,  1.02841508e+02, -5.09525000e+01, ...,\n",
       "         0.00000000e+00,  0.00000000e+00,  0.00000000e+00],\n",
       "       [ 0.00000000e+00, -5.10161111e+01,  1.03095952e+02, ...,\n",
       "         0.00000000e+00,  0.00000000e+00,  0.00000000e+00],\n",
       "       ...,\n",
       "       [ 0.00000000e+00,  0.00000000e+00,  0.00000000e+00, ...,\n",
       "         1.42766738e+03, -7.13452619e+02,  0.00000000e+00],\n",
       "       [ 0.00000000e+00,  0.00000000e+00,  0.00000000e+00, ...,\n",
       "        -7.13690595e+02,  1.42861929e+03, -7.13928611e+02],\n",
       "       [ 0.00000000e+00,  0.00000000e+00,  0.00000000e+00, ...,\n",
       "         0.00000000e+00,  0.00000000e+00,  1.00000000e+00]])"
      ]
     },
     "execution_count": 10,
     "metadata": {},
     "output_type": "execute_result"
    }
   ],
   "source": [
    "M=np.zeros((N_x+1,N_x+1))\n",
    "\n",
    "# correct for the first row and the last row\n",
    "M[0,0]=1\n",
    "M[N_x, N_x]=1\n",
    "for k in range(1,N_x):\n",
    "    M[k,k-1] = a(k)\n",
    "    M[k,k]=b(k)\n",
    "    M[k,k+1]=c(k)\n",
    "M"
   ]
  },
  {
   "cell_type": "markdown",
   "id": "e6cec0b7-19b7-4e14-a630-09126e8eb64e",
   "metadata": {},
   "source": [
    "**Begin the iteration process and account for the boundary conditions at each step.**"
   ]
  },
  {
   "cell_type": "code",
   "execution_count": 11,
   "id": "4887ab55-d173-4d9a-bfea-5a29fdad371c",
   "metadata": {},
   "outputs": [
    {
     "name": "stdout",
     "output_type": "stream",
     "text": [
      "CPU times: user 4min 3s, sys: 2.7 s, total: 4min 5s\n",
      "Wall time: 1min 1s\n"
     ]
    },
    {
     "data": {
      "text/plain": [
       "array([-5.59643169e-14,  1.63666197e-02,  3.27149519e-02, ...,\n",
       "        1.91978146e+02,  1.92078146e+02,  1.92178146e+02])"
      ]
     },
     "execution_count": 11,
     "metadata": {},
     "output_type": "execute_result"
    }
   ],
   "source": [
    "%%time\n",
    "v=v_N_t\n",
    "for j in range(N_t, 0, -1):\n",
    "    # construct the correction matrix C_{j-1} for each iteration\n",
    "    C_j_minus_1 = np.zeros(N_x+1)\n",
    "    C_j_minus_1[-1] = np.exp(-r*(T-j*Δt))*K - np.exp(-r*(T-(j-1)*Δt))*K\n",
    "    v=np.linalg.inv(M)@(v+C_j_minus_1)\n",
    "v"
   ]
  },
  {
   "cell_type": "code",
   "execution_count": 12,
   "id": "a2c5ce52-ecd1-4398-9b21-e5a5d7d30368",
   "metadata": {},
   "outputs": [
    {
     "name": "stdout",
     "output_type": "stream",
     "text": [
      "The price of the option given initial price=100 at time t=0 is: $ 4.877353434900327\n"
     ]
    }
   ],
   "source": [
    "initial_price=100\n",
    "print(f'The price of the option given initial price={initial_price} at time t={t} is: $',v[int((initial_price-B)/Δx)-1])"
   ]
  },
  {
   "cell_type": "markdown",
   "id": "692c041a-7125-4e24-b6b7-e22d3c9973ec",
   "metadata": {},
   "source": [
    "## Analytical solution of the PDE"
   ]
  },
  {
   "cell_type": "markdown",
   "id": "419a31ad-0092-4bfd-a991-b0ca63ca5217",
   "metadata": {},
   "source": [
    "If we solved the PDE analytically instead of numerically, we would have obtained the formula:\n",
    "\n",
    "\\begin{align}\n",
    "    v(t, x)=c_{K}(t, x)-\\left(\\frac{x}{B}\\right)^{2 \\alpha} c_{K}\\left(t, \\frac{B^2}{x}\\right), \\quad \\alpha=\\frac{1}{2}\\left(1-\\frac{2 r}{\\sigma^{2}}\\right)\n",
    "\\end{align}\n",
    "where \n",
    "$$\n",
    "C(t, x ; K, T, \\sigma, r)=x N\\left(d_{+}\\right)-K e^{-r (T-t)} N\\left(d_{-}\\right)\n",
    "$$\n",
    "\n",
    "with $N(z)=\\int_{-\\infty}^{z} \\frac{\\exp \\left(-y^{2} / 2\\right)}{\\sqrt{2 \\pi}} d y$ and\n",
    "\n",
    "$$\n",
    "d_{-}=d_{+}-\\sigma \\sqrt{T-t}, \\quad d_{+}=\\frac{1}{\\sigma \\sqrt{T-t}}\\left(\\log (x / K)+\\left(r+\\frac{1}{2} \\sigma^{2}\\right) (T-t)\\right)\n",
    "$$"
   ]
  },
  {
   "cell_type": "markdown",
   "id": "96b362fb-fb69-45b6-ab23-599c6f5815bf",
   "metadata": {},
   "source": [
    "Now, we compute the price of the option given by the closed formula specified above at $t=0$."
   ]
  },
  {
   "cell_type": "code",
   "execution_count": 37,
   "id": "f97dac6c-0c9c-4df7-bab9-5c6b5d4ddb17",
   "metadata": {},
   "outputs": [],
   "source": [
    "def BS_eu_call(t,s_t, T, σ, K):\n",
    "    d_plus = (np.log(s_t/float(K))+(r+σ**2/2)*(T-t)) / (σ*np.sqrt(T-t))\n",
    "    d_minus= d_plus - σ*np.sqrt(T-t)\n",
    "    return s_t*spst.norm.cdf(d_plus) - K*np.exp(-r*(T-t))*spst.norm.cdf(d_minus)"
   ]
  },
  {
   "cell_type": "code",
   "execution_count": 38,
   "id": "a931cefd-0c2f-485b-b202-90aa3fd41257",
   "metadata": {},
   "outputs": [
    {
     "data": {
      "text/plain": [
       "(100, 80)"
      ]
     },
     "execution_count": 38,
     "metadata": {},
     "output_type": "execute_result"
    }
   ],
   "source": [
    "x,K"
   ]
  },
  {
   "cell_type": "code",
   "execution_count": 39,
   "id": "8a541a50-5ab7-4042-8c9c-513b3016c5be",
   "metadata": {},
   "outputs": [
    {
     "name": "stdout",
     "output_type": "stream",
     "text": [
      "The the price of the option given by the closed formula at t=0 is: $ 20.000000000000036\n",
      "CPU times: user 774 µs, sys: 165 µs, total: 939 µs\n",
      "Wall time: 810 µs\n"
     ]
    }
   ],
   "source": [
    "%%time\n",
    "α=0.5*(1-2*r/σ**2)\n",
    "option_value_analytic = BS_eu_call(t,x, T, σ, K) - (x/B)**(2*α)*BS_eu_call(t,B**2/x, T, σ, K)\n",
    "print(f'The the price of the option given by the closed formula at t={t} is: $', option_value_analytic)"
   ]
  },
  {
   "cell_type": "markdown",
   "id": "04819a08-efa5-441a-b315-c9e1e772caf9",
   "metadata": {},
   "source": [
    "(o) Compare the prices (accuracy and speed) obtained numerically by Monte Carlo and the PDE method, with theoretical (given by the analytical solution) price from the PDE."
   ]
  },
  {
   "cell_type": "markdown",
   "id": "fca4a97b-ccdb-42b2-9e79-b4a433ef1a34",
   "metadata": {},
   "source": [
    "| |Price |Speed |Accuracy (RMSE) |\n",
    "|-|-|-|-|\n",
    "|Monte Carlo |4.906372599084435 |2min 1s |0.01388420913593702 |\n",
    "|Finite Differece PDE |4.877353434414326 |1min 1s |0.042903373806045586 |\n",
    "|THEORETICAL SOLUTION|4.920256808220372 |1.58 ms |0 |"
   ]
  },
  {
   "cell_type": "code",
   "execution_count": 40,
   "id": "4153ed4c-b165-467a-8da8-2e728bd40222",
   "metadata": {},
   "outputs": [],
   "source": [
    "# np.sqrt((4.906372599084435-4.920256808220372)**2)"
   ]
  },
  {
   "cell_type": "markdown",
   "id": "cb34e1da-22b3-42d4-9fa7-2919d6a5d8eb",
   "metadata": {},
   "source": [
    "# Bonus Question"
   ]
  },
  {
   "cell_type": "code",
   "execution_count": 41,
   "id": "c65e9573-f9f7-40e0-ae13-77d3b6f4de55",
   "metadata": {},
   "outputs": [],
   "source": [
    "t=0    # year\n",
    "T=1    # year\n",
    "σ=0.20 # 20% per year\n",
    "r=0\n",
    "B=80\n",
    "K=80\n",
    "x=100"
   ]
  },
  {
   "cell_type": "markdown",
   "id": "66ed553f-f6a5-4799-b8c3-a5d3f02f1cfc",
   "metadata": {},
   "source": [
    "For $r=0$, $B=K$, we must have \n",
    "$$\n",
    "v(t,x)=x-B \\Longleftrightarrow v(t,S_t)=S_t-B, \\forall t\n",
    "$$\n",
    "And, in this case, $v(t,x)\\equiv \\$20$ at time $t$ ($=0$)."
   ]
  },
  {
   "cell_type": "markdown",
   "id": "2963f4b9-5364-48ba-b7f6-0a553ae74126",
   "metadata": {},
   "source": [
    "**Now, we use the analytical solution given above to verify our result.**"
   ]
  },
  {
   "cell_type": "code",
   "execution_count": 42,
   "id": "63a95b67-4dd7-4e13-8295-7cfff62e0c54",
   "metadata": {},
   "outputs": [
    {
     "name": "stdout",
     "output_type": "stream",
     "text": [
      "The the price of the option given by the closed formula at t=0 is: $ 20.000000000000036\n"
     ]
    }
   ],
   "source": [
    "t=0\n",
    "α=0.5*(1-2*r/σ**2)\n",
    "option_value_analytic = BS_eu_call(t,x, T, σ, K) - (x/B)**(2*α)*BS_eu_call(t,B**2/x, T, σ, K)\n",
    "print(f'The the price of the option given by the closed formula at t={t} is: $', option_value_analytic)"
   ]
  },
  {
   "cell_type": "markdown",
   "id": "9bcb93f5-d8a6-4201-abc8-ff9decfb48d0",
   "metadata": {},
   "source": [
    "**We can also plot the prices given by analytical solution and prices given by replicating portfolio and see if they are identical.**"
   ]
  },
  {
   "cell_type": "code",
   "execution_count": 45,
   "id": "7a776bfb-90b8-4946-9b7d-4de6ecf47af4",
   "metadata": {},
   "outputs": [
    {
     "data": {
      "text/plain": [
       "<matplotlib.legend.Legend at 0x7fd76e6c3370>"
      ]
     },
     "execution_count": 45,
     "metadata": {},
     "output_type": "execute_result"
    },
    {
     "data": {
      "image/png": "[encoded data removed]",
      "text/plain": [
       "<Figure size 432x288 with 1 Axes>"
      ]
     },
     "metadata": {
      "needs_background": "light"
     },
     "output_type": "display_data"
    }
   ],
   "source": [
    "np.random.seed(66)\n",
    "prices_analytical = []\n",
    "prices_rep_portfolio=[]\n",
    "time = np.linspace(0,0.999,252) # we use 0.999 to avoid the 'divide by zero' warning.\n",
    "δ_t = time[1]-time[0] # increment (delta) of time, \n",
    "\n",
    "S_t = [x]\n",
    "for i in range(1, 252):\n",
    "    next_S = S_t[-1]+r*S_t[-1]*δ_t+σ*S_t[-1]*np.random.normal(0,np.sqrt(δ_t))\n",
    "    S_t.append(next_S)\n",
    "    \n",
    "for i in range(252):\n",
    "    try:\n",
    "        prices_analytical.append(BS_eu_call(time[i],S_t[i], T, σ, K) - (S_t[i]/B)**(2*α)*BS_eu_call(time[i],B**2/S_t[i], T, σ, K))\n",
    "        prices_rep_portfolio.append(S_t[i]-K)\n",
    "    except:\n",
    "        print(i)\n",
    "\n",
    "plt.plot(time, prices_analytical, label='prices given by analytical solution')\n",
    "plt.plot(time, prices_rep_portfolio, label='prices given by replicating portfolio', alpha=0.7)\n",
    "plt.xlabel('time')\n",
    "plt.ylabel('price')\n",
    "plt.title('barrier option prices for all t')\n",
    "plt.legend()"
   ]
  },
  {
   "cell_type": "markdown",
   "id": "73f534d6-f7b0-42c5-b52e-57f4ca7adbe4",
   "metadata": {},
   "source": [
    "**Indeed, from the figure above, we see that prices given by analytical solution and prices given by replicating portfolio overlap and are exactly the same.**"
   ]
  },
  {
   "cell_type": "code",
   "execution_count": null,
   "id": "41fd77c5-e094-423d-9d04-6508267f2d44",
   "metadata": {},
   "outputs": [],
   "source": []
  }
 ],
 "metadata": {
  "kernelspec": {
   "display_name": "Python 3 (ipykernel)",
   "language": "python",
   "name": "python3"
  },
  "language_info": {
   "codemirror_mode": {
    "name": "ipython",
    "version": 3
   },
   "file_extension": ".py",
   "mimetype": "text/x-python",
   "name": "python",
   "nbconvert_exporter": "python",
   "pygments_lexer": "ipython3",
   "version": "3.9.12"
  }
 },
 "nbformat": 4,
 "nbformat_minor": 5
}
